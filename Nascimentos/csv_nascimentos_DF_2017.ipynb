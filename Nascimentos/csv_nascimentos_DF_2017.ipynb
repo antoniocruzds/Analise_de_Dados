{
 "cells": [
  {
   "cell_type": "code",
   "execution_count": 3,
   "metadata": {},
   "outputs": [],
   "source": [
    "# Importando as bibliotecas\n",
    "import pandas as pd\n",
    "# Informar ao matplotlib sobre graficos inline\n",
    "%matplotlib inline"
   ]
  },
  {
   "cell_type": "code",
   "execution_count": 7,
   "metadata": {},
   "outputs": [
    {
     "data": {
      "text/html": [
       "<div>\n",
       "<style scoped>\n",
       "    .dataframe tbody tr th:only-of-type {\n",
       "        vertical-align: middle;\n",
       "    }\n",
       "\n",
       "    .dataframe tbody tr th {\n",
       "        vertical-align: top;\n",
       "    }\n",
       "\n",
       "    .dataframe thead th {\n",
       "        text-align: right;\n",
       "    }\n",
       "</style>\n",
       "<table border=\"1\" class=\"dataframe\">\n",
       "  <thead>\n",
       "    <tr style=\"text-align: right;\">\n",
       "      <th></th>\n",
       "      <th>ano_mes</th>\n",
       "      <th>vaginal</th>\n",
       "      <th>cesario</th>\n",
       "      <th>nao_informado</th>\n",
       "      <th>total</th>\n",
       "    </tr>\n",
       "  </thead>\n",
       "  <tbody>\n",
       "    <tr>\n",
       "      <th>0</th>\n",
       "      <td>201701</td>\n",
       "      <td>2235</td>\n",
       "      <td>2409</td>\n",
       "      <td>9</td>\n",
       "      <td>4653</td>\n",
       "    </tr>\n",
       "    <tr>\n",
       "      <th>1</th>\n",
       "      <td>201702</td>\n",
       "      <td>2222</td>\n",
       "      <td>2310</td>\n",
       "      <td>12</td>\n",
       "      <td>4544</td>\n",
       "    </tr>\n",
       "    <tr>\n",
       "      <th>2</th>\n",
       "      <td>201703</td>\n",
       "      <td>2560</td>\n",
       "      <td>2666</td>\n",
       "      <td>15</td>\n",
       "      <td>5241</td>\n",
       "    </tr>\n",
       "    <tr>\n",
       "      <th>3</th>\n",
       "      <td>201704</td>\n",
       "      <td>2291</td>\n",
       "      <td>2480</td>\n",
       "      <td>8</td>\n",
       "      <td>4779</td>\n",
       "    </tr>\n",
       "    <tr>\n",
       "      <th>4</th>\n",
       "      <td>201705</td>\n",
       "      <td>2491</td>\n",
       "      <td>2517</td>\n",
       "      <td>8</td>\n",
       "      <td>5016</td>\n",
       "    </tr>\n",
       "  </tbody>\n",
       "</table>\n",
       "</div>"
      ],
      "text/plain": [
       "   ano_mes  vaginal  cesario  nao_informado  total\n",
       "0   201701     2235     2409              9   4653\n",
       "1   201702     2222     2310             12   4544\n",
       "2   201703     2560     2666             15   5241\n",
       "3   201704     2291     2480              8   4779\n",
       "4   201705     2491     2517              8   5016"
      ]
     },
     "execution_count": 7,
     "metadata": {},
     "output_type": "execute_result"
    }
   ],
   "source": [
    "# Importando algumas colunas do arquivo\n",
    "# 0- ano/mes 1- vaginal 2-cesario\n",
    "\n",
    "#carregar o arquivo csv, com o separador, o codigo do doc, e as colunas que quero\n",
    "df = pd.read_csv('sinasc122017.csv', sep=';', encoding='cp1252', usecols=[0, 1, 2, 3, 4])\n",
    "\n",
    "# Exibir as primeiras linhas do df\n",
    "df.head() #Ler o inicio\n",
    "\n"
   ]
  },
  {
   "cell_type": "code",
   "execution_count": 9,
   "metadata": {},
   "outputs": [
    {
     "data": {
      "text/html": [
       "<div>\n",
       "<style scoped>\n",
       "    .dataframe tbody tr th:only-of-type {\n",
       "        vertical-align: middle;\n",
       "    }\n",
       "\n",
       "    .dataframe tbody tr th {\n",
       "        vertical-align: top;\n",
       "    }\n",
       "\n",
       "    .dataframe thead th {\n",
       "        text-align: right;\n",
       "    }\n",
       "</style>\n",
       "<table border=\"1\" class=\"dataframe\">\n",
       "  <thead>\n",
       "    <tr style=\"text-align: right;\">\n",
       "      <th></th>\n",
       "      <th>Ano/Mês</th>\n",
       "      <th>Parto_Normal</th>\n",
       "      <th>Parto_Cesariano</th>\n",
       "      <th>Nâo_Informado</th>\n",
       "      <th>Total_de_Partos</th>\n",
       "    </tr>\n",
       "  </thead>\n",
       "  <tbody>\n",
       "    <tr>\n",
       "      <th>0</th>\n",
       "      <td>201701</td>\n",
       "      <td>2235</td>\n",
       "      <td>2409</td>\n",
       "      <td>9</td>\n",
       "      <td>4653</td>\n",
       "    </tr>\n",
       "    <tr>\n",
       "      <th>1</th>\n",
       "      <td>201702</td>\n",
       "      <td>2222</td>\n",
       "      <td>2310</td>\n",
       "      <td>12</td>\n",
       "      <td>4544</td>\n",
       "    </tr>\n",
       "    <tr>\n",
       "      <th>2</th>\n",
       "      <td>201703</td>\n",
       "      <td>2560</td>\n",
       "      <td>2666</td>\n",
       "      <td>15</td>\n",
       "      <td>5241</td>\n",
       "    </tr>\n",
       "    <tr>\n",
       "      <th>3</th>\n",
       "      <td>201704</td>\n",
       "      <td>2291</td>\n",
       "      <td>2480</td>\n",
       "      <td>8</td>\n",
       "      <td>4779</td>\n",
       "    </tr>\n",
       "    <tr>\n",
       "      <th>4</th>\n",
       "      <td>201705</td>\n",
       "      <td>2491</td>\n",
       "      <td>2517</td>\n",
       "      <td>8</td>\n",
       "      <td>5016</td>\n",
       "    </tr>\n",
       "    <tr>\n",
       "      <th>5</th>\n",
       "      <td>201706</td>\n",
       "      <td>2312</td>\n",
       "      <td>2575</td>\n",
       "      <td>8</td>\n",
       "      <td>4895</td>\n",
       "    </tr>\n",
       "    <tr>\n",
       "      <th>6</th>\n",
       "      <td>201707</td>\n",
       "      <td>2254</td>\n",
       "      <td>2568</td>\n",
       "      <td>8</td>\n",
       "      <td>4830</td>\n",
       "    </tr>\n",
       "    <tr>\n",
       "      <th>7</th>\n",
       "      <td>201708</td>\n",
       "      <td>2215</td>\n",
       "      <td>2444</td>\n",
       "      <td>15</td>\n",
       "      <td>4674</td>\n",
       "    </tr>\n",
       "    <tr>\n",
       "      <th>8</th>\n",
       "      <td>201709</td>\n",
       "      <td>2183</td>\n",
       "      <td>2390</td>\n",
       "      <td>15</td>\n",
       "      <td>4588</td>\n",
       "    </tr>\n",
       "    <tr>\n",
       "      <th>9</th>\n",
       "      <td>201710</td>\n",
       "      <td>2258</td>\n",
       "      <td>2430</td>\n",
       "      <td>14</td>\n",
       "      <td>4702</td>\n",
       "    </tr>\n",
       "    <tr>\n",
       "      <th>10</th>\n",
       "      <td>201711</td>\n",
       "      <td>2191</td>\n",
       "      <td>2397</td>\n",
       "      <td>15</td>\n",
       "      <td>4603</td>\n",
       "    </tr>\n",
       "    <tr>\n",
       "      <th>11</th>\n",
       "      <td>201712</td>\n",
       "      <td>2180</td>\n",
       "      <td>2364</td>\n",
       "      <td>11</td>\n",
       "      <td>4555</td>\n",
       "    </tr>\n",
       "  </tbody>\n",
       "</table>\n",
       "</div>"
      ],
      "text/plain": [
       "    Ano/Mês  Parto_Normal  Parto_Cesariano  Nâo_Informado  Total_de_Partos\n",
       "0    201701          2235             2409              9             4653\n",
       "1    201702          2222             2310             12             4544\n",
       "2    201703          2560             2666             15             5241\n",
       "3    201704          2291             2480              8             4779\n",
       "4    201705          2491             2517              8             5016\n",
       "5    201706          2312             2575              8             4895\n",
       "6    201707          2254             2568              8             4830\n",
       "7    201708          2215             2444             15             4674\n",
       "8    201709          2183             2390             15             4588\n",
       "9    201710          2258             2430             14             4702\n",
       "10   201711          2191             2397             15             4603\n",
       "11   201712          2180             2364             11             4555"
      ]
     },
     "execution_count": 9,
     "metadata": {},
     "output_type": "execute_result"
    }
   ],
   "source": [
    "# Trocar o nome das colunas\n",
    "df.columns=['Ano/Mês', 'Parto_Normal', 'Parto_Cesariano', 'Nâo_Informado', 'Total_de_Partos']\n",
    "\n",
    "# Exibir as primeiras linhas do df\n",
    "df.head(12) #Mostrar as 12 linhas"
   ]
  },
  {
   "cell_type": "code",
   "execution_count": 10,
   "metadata": {},
   "outputs": [
    {
     "data": {
      "text/html": [
       "<div>\n",
       "<style scoped>\n",
       "    .dataframe tbody tr th:only-of-type {\n",
       "        vertical-align: middle;\n",
       "    }\n",
       "\n",
       "    .dataframe tbody tr th {\n",
       "        vertical-align: top;\n",
       "    }\n",
       "\n",
       "    .dataframe thead th {\n",
       "        text-align: right;\n",
       "    }\n",
       "</style>\n",
       "<table border=\"1\" class=\"dataframe\">\n",
       "  <thead>\n",
       "    <tr style=\"text-align: right;\">\n",
       "      <th></th>\n",
       "      <th>Ano/Mês</th>\n",
       "      <th>Parto_Normal</th>\n",
       "      <th>Parto_Cesariano</th>\n",
       "      <th>Nâo_Informado</th>\n",
       "      <th>Total_de_Partos</th>\n",
       "    </tr>\n",
       "  </thead>\n",
       "  <tbody>\n",
       "    <tr>\n",
       "      <th>count</th>\n",
       "      <td>12.000000</td>\n",
       "      <td>12.000000</td>\n",
       "      <td>12.000000</td>\n",
       "      <td>12.000000</td>\n",
       "      <td>12.000000</td>\n",
       "    </tr>\n",
       "    <tr>\n",
       "      <th>mean</th>\n",
       "      <td>201706.500000</td>\n",
       "      <td>2282.666667</td>\n",
       "      <td>2462.500000</td>\n",
       "      <td>11.500000</td>\n",
       "      <td>4756.666667</td>\n",
       "    </tr>\n",
       "    <tr>\n",
       "      <th>std</th>\n",
       "      <td>3.605551</td>\n",
       "      <td>121.387683</td>\n",
       "      <td>102.354553</td>\n",
       "      <td>3.176619</td>\n",
       "      <td>210.059010</td>\n",
       "    </tr>\n",
       "    <tr>\n",
       "      <th>min</th>\n",
       "      <td>201701.000000</td>\n",
       "      <td>2180.000000</td>\n",
       "      <td>2310.000000</td>\n",
       "      <td>8.000000</td>\n",
       "      <td>4544.000000</td>\n",
       "    </tr>\n",
       "    <tr>\n",
       "      <th>25%</th>\n",
       "      <td>201703.750000</td>\n",
       "      <td>2209.000000</td>\n",
       "      <td>2395.250000</td>\n",
       "      <td>8.000000</td>\n",
       "      <td>4599.250000</td>\n",
       "    </tr>\n",
       "    <tr>\n",
       "      <th>50%</th>\n",
       "      <td>201706.500000</td>\n",
       "      <td>2244.500000</td>\n",
       "      <td>2437.000000</td>\n",
       "      <td>11.500000</td>\n",
       "      <td>4688.000000</td>\n",
       "    </tr>\n",
       "    <tr>\n",
       "      <th>75%</th>\n",
       "      <td>201709.250000</td>\n",
       "      <td>2296.250000</td>\n",
       "      <td>2529.750000</td>\n",
       "      <td>15.000000</td>\n",
       "      <td>4846.250000</td>\n",
       "    </tr>\n",
       "    <tr>\n",
       "      <th>max</th>\n",
       "      <td>201712.000000</td>\n",
       "      <td>2560.000000</td>\n",
       "      <td>2666.000000</td>\n",
       "      <td>15.000000</td>\n",
       "      <td>5241.000000</td>\n",
       "    </tr>\n",
       "  </tbody>\n",
       "</table>\n",
       "</div>"
      ],
      "text/plain": [
       "             Ano/Mês  Parto_Normal  Parto_Cesariano  Nâo_Informado  \\\n",
       "count      12.000000     12.000000        12.000000      12.000000   \n",
       "mean   201706.500000   2282.666667      2462.500000      11.500000   \n",
       "std         3.605551    121.387683       102.354553       3.176619   \n",
       "min    201701.000000   2180.000000      2310.000000       8.000000   \n",
       "25%    201703.750000   2209.000000      2395.250000       8.000000   \n",
       "50%    201706.500000   2244.500000      2437.000000      11.500000   \n",
       "75%    201709.250000   2296.250000      2529.750000      15.000000   \n",
       "max    201712.000000   2560.000000      2666.000000      15.000000   \n",
       "\n",
       "       Total_de_Partos  \n",
       "count        12.000000  \n",
       "mean       4756.666667  \n",
       "std         210.059010  \n",
       "min        4544.000000  \n",
       "25%        4599.250000  \n",
       "50%        4688.000000  \n",
       "75%        4846.250000  \n",
       "max        5241.000000  "
      ]
     },
     "execution_count": 10,
     "metadata": {},
     "output_type": "execute_result"
    }
   ],
   "source": [
    "# Descrever colunas numericas\n",
    "df.describe()"
   ]
  },
  {
   "cell_type": "code",
   "execution_count": 11,
   "metadata": {},
   "outputs": [
    {
     "data": {
      "text/plain": [
       "array([4653, 4544, 5241, 4779, 5016, 4895, 4830, 4674, 4588, 4702, 4603,\n",
       "       4555], dtype=int64)"
      ]
     },
     "execution_count": 11,
     "metadata": {},
     "output_type": "execute_result"
    }
   ],
   "source": [
    "# Listando os partos cesarianos \n",
    "df['Total_de_Partos'].unique() #Valores unicos"
   ]
  },
  {
   "cell_type": "code",
   "execution_count": 12,
   "metadata": {},
   "outputs": [
    {
     "data": {
      "text/plain": [
       "4895    1\n",
       "4830    1\n",
       "4653    1\n",
       "4588    1\n",
       "4779    1\n",
       "5241    1\n",
       "5016    1\n",
       "4603    1\n",
       "4702    1\n",
       "4674    1\n",
       "4555    1\n",
       "4544    1\n",
       "Name: Total_de_Partos, dtype: int64"
      ]
     },
     "execution_count": 12,
     "metadata": {},
     "output_type": "execute_result"
    }
   ],
   "source": [
    "# Contando e ordenando os partos normais\n",
    "df['Total_de_Partos'].value_counts()"
   ]
  },
  {
   "cell_type": "code",
   "execution_count": 16,
   "metadata": {},
   "outputs": [
    {
     "data": {
      "text/plain": [
       "<matplotlib.axes._subplots.AxesSubplot at 0x2bf7cb50388>"
      ]
     },
     "execution_count": 16,
     "metadata": {},
     "output_type": "execute_result"
    },
    {
     "data": {
      "image/png": "[encoded data removed]",
      "text/plain": [
       "<Figure size 432x288 with 1 Axes>"
      ]
     },
     "metadata": {
      "needs_background": "light"
     },
     "output_type": "display_data"
    }
   ],
   "source": [
    "# Plotar o gráfico de total de partos por mês\n",
    "df['Total_de_Partos'].plot.bar()"
   ]
  },
  {
   "cell_type": "code",
   "execution_count": 17,
   "metadata": {},
   "outputs": [
    {
     "data": {
      "text/html": [
       "<div>\n",
       "<style scoped>\n",
       "    .dataframe tbody tr th:only-of-type {\n",
       "        vertical-align: middle;\n",
       "    }\n",
       "\n",
       "    .dataframe tbody tr th {\n",
       "        vertical-align: top;\n",
       "    }\n",
       "\n",
       "    .dataframe thead th {\n",
       "        text-align: right;\n",
       "    }\n",
       "</style>\n",
       "<table border=\"1\" class=\"dataframe\">\n",
       "  <thead>\n",
       "    <tr style=\"text-align: right;\">\n",
       "      <th></th>\n",
       "      <th>Ano/Mês</th>\n",
       "      <th>Parto_Normal</th>\n",
       "      <th>Parto_Cesariano</th>\n",
       "      <th>Nâo_Informado</th>\n",
       "      <th>Total_de_Partos</th>\n",
       "    </tr>\n",
       "  </thead>\n",
       "  <tbody>\n",
       "    <tr>\n",
       "      <th>2</th>\n",
       "      <td>201703</td>\n",
       "      <td>2560</td>\n",
       "      <td>2666</td>\n",
       "      <td>15</td>\n",
       "      <td>5241</td>\n",
       "    </tr>\n",
       "  </tbody>\n",
       "</table>\n",
       "</div>"
      ],
      "text/plain": [
       "   Ano/Mês  Parto_Normal  Parto_Cesariano  Nâo_Informado  Total_de_Partos\n",
       "2   201703          2560             2666             15             5241"
      ]
     },
     "execution_count": 17,
     "metadata": {},
     "output_type": "execute_result"
    }
   ],
   "source": [
    "# destacando a linha do mês com o maior numero de partos\n",
    "# Criando um Subconjunto dos dados originais\n",
    "# criando um novo df\n",
    "\n",
    "df_março = df[df['Ano/Mês'] == 201703] #não ta entre apas por ser numero\n",
    "\n",
    "#mostrar o df\n",
    "df_março.head()"
   ]
  },
  {
   "cell_type": "code",
   "execution_count": 18,
   "metadata": {},
   "outputs": [
    {
     "data": {
      "text/html": [
       "<div>\n",
       "<style scoped>\n",
       "    .dataframe tbody tr th:only-of-type {\n",
       "        vertical-align: middle;\n",
       "    }\n",
       "\n",
       "    .dataframe tbody tr th {\n",
       "        vertical-align: top;\n",
       "    }\n",
       "\n",
       "    .dataframe thead th {\n",
       "        text-align: right;\n",
       "    }\n",
       "</style>\n",
       "<table border=\"1\" class=\"dataframe\">\n",
       "  <thead>\n",
       "    <tr style=\"text-align: right;\">\n",
       "      <th></th>\n",
       "      <th>Parto_Normal</th>\n",
       "      <th>Parto_Cesariano</th>\n",
       "      <th>Nâo_Informado</th>\n",
       "    </tr>\n",
       "  </thead>\n",
       "  <tbody>\n",
       "    <tr>\n",
       "      <th>2</th>\n",
       "      <td>2560</td>\n",
       "      <td>2666</td>\n",
       "      <td>15</td>\n",
       "    </tr>\n",
       "  </tbody>\n",
       "</table>\n",
       "</div>"
      ],
      "text/plain": [
       "   Parto_Normal  Parto_Cesariano  Nâo_Informado\n",
       "2          2560             2666             15"
      ]
     },
     "execution_count": 18,
     "metadata": {},
     "output_type": "execute_result"
    }
   ],
   "source": [
    "#Excluindo colunas para uma melhor visualização do gráfico\n",
    "#excluindo oano/mês(ja sabemos que é março), e o total de partos\n",
    "#temos que o df_março, vai receber um novo df que é o mesmo sem as colunas \n",
    "df_março = df_março.drop(columns=['Ano/Mês', 'Total_de_Partos'])\n",
    "\n",
    "#mostrar o df\n",
    "df_março.head()"
   ]
  },
  {
   "cell_type": "code",
   "execution_count": 20,
   "metadata": {},
   "outputs": [
    {
     "data": {
      "text/plain": [
       "<matplotlib.axes._subplots.AxesSubplot at 0x2bf7cc31208>"
      ]
     },
     "execution_count": 20,
     "metadata": {},
     "output_type": "execute_result"
    },
    {
     "data": {
      "image/png": "[encoded data removed]",
      "text/plain": [
       "<Figure size 432x288 with 1 Axes>"
      ]
     },
     "metadata": {
      "needs_background": "light"
     },
     "output_type": "display_data"
    }
   ],
   "source": [
    "#Plotando umg´rafico com a quantidade de cada tipo de parto no mês de Março\n",
    "df_março.plot.barh(title='Comparação Entre Os Tipos de Parto')\n"
   ]
  }
 ],
 "metadata": {
  "kernelspec": {
   "display_name": "Python 3",
   "language": "python",
   "name": "python3"
  },
  "language_info": {
   "codemirror_mode": {
    "name": "ipython",
    "version": 3
   },
   "file_extension": ".py",
   "mimetype": "text/x-python",
   "name": "python",
   "nbconvert_exporter": "python",
   "pygments_lexer": "ipython3",
   "version": "3.7.6"
  }
 },
 "nbformat": 4,
 "nbformat_minor": 4
}
